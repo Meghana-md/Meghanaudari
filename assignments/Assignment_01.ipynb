{
  "cells": [
    {
      "cell_type": "markdown",
      "metadata": {
        "id": "view-in-github",
        "colab_type": "text"
      },
      "source": [
        "<a href=\"https://colab.research.google.com/github/Meghana-md/Meghanaudari/blob/main/assignments/Assignment_01.ipynb\" target=\"_parent\"><img src=\"https://colab.research.google.com/assets/colab-badge.svg\" alt=\"Open In Colab\"/></a>"
      ]
    },
    {
      "cell_type": "markdown",
      "id": "548b84c2-e24f-4a12-98bb-5e7bd5ec86bd",
      "metadata": {
        "id": "548b84c2-e24f-4a12-98bb-5e7bd5ec86bd"
      },
      "source": [
        "\n",
        "# Python"
      ]
    },
    {
      "cell_type": "markdown",
      "id": "99fbfc45-ba9e-4766-8219-f5dbcacc8481",
      "metadata": {
        "id": "99fbfc45-ba9e-4766-8219-f5dbcacc8481"
      },
      "source": [
        "<a target=\"_blank\" href=\"https://colab.research.google.com/github/kgsb24/rishi-college/blob/main/assignments/Assignment_01.ipynb\">\n",
        "  <img src=\"https://colab.research.google.com/assets/colab-badge.svg\" alt=\"Open In Colab\"/>\n",
        "</a>"
      ]
    },
    {
      "cell_type": "markdown",
      "id": "07a1f870-f905-4703-8b65-12e83172133a",
      "metadata": {
        "id": "07a1f870-f905-4703-8b65-12e83172133a"
      },
      "source": [
        "## Basic Python Fundamentals"
      ]
    },
    {
      "cell_type": "code",
      "execution_count": null,
      "id": "502e1d87-2fdd-4588-a330-2af21268215e",
      "metadata": {
        "id": "502e1d87-2fdd-4588-a330-2af21268215e"
      },
      "outputs": [],
      "source": [
        " #Write a Python program to declare a variable x with the value 10 and print its type."
      ]
    },
    {
      "cell_type": "code",
      "source": [
        "x=10\n",
        "print(type(x))"
      ],
      "metadata": {
        "colab": {
          "base_uri": "https://localhost:8080/"
        },
        "id": "oPk4W6dg_Zsx",
        "outputId": "88263fe3-41bd-47c9-ece1-4c7a032d9b46"
      },
      "id": "oPk4W6dg_Zsx",
      "execution_count": null,
      "outputs": [
        {
          "output_type": "stream",
          "name": "stdout",
          "text": [
            "<class 'int'>\n"
          ]
        }
      ]
    },
    {
      "cell_type": "code",
      "execution_count": null,
      "id": "dae77579-4b7d-4f06-96e0-7bdfe43860d7",
      "metadata": {
        "id": "dae77579-4b7d-4f06-96e0-7bdfe43860d7"
      },
      "outputs": [],
      "source": [
        "# Write a Python program to declare three variables a = 5, b = 10, and c = 15, and print their sum."
      ]
    },
    {
      "cell_type": "code",
      "source": [
        "a=5\n",
        "b=10\n",
        "c=15\n",
        "print(a+b+c)"
      ],
      "metadata": {
        "id": "Jw6hEIKX_1i_",
        "outputId": "baf523e6-e76f-4f4d-eb66-c2d8cde69c4f",
        "colab": {
          "base_uri": "https://localhost:8080/"
        }
      },
      "id": "Jw6hEIKX_1i_",
      "execution_count": null,
      "outputs": [
        {
          "output_type": "stream",
          "name": "stdout",
          "text": [
            "30\n"
          ]
        }
      ]
    },
    {
      "cell_type": "code",
      "execution_count": null,
      "id": "c32867b2-a615-426a-89ae-bd2793b6a4dc",
      "metadata": {
        "id": "c32867b2-a615-426a-89ae-bd2793b6a4dc"
      },
      "outputs": [],
      "source": [
        "# Write a Python program that checks and prints the type of a variable (e.g., int, float, str, etc.)."
      ]
    },
    {
      "cell_type": "code",
      "source": [
        "a=5\n",
        "b=10.5\n",
        "c=\"rishi\"\n",
        "print(type(a))\n",
        "print(type(b))\n",
        "print(type(c))"
      ],
      "metadata": {
        "colab": {
          "base_uri": "https://localhost:8080/"
        },
        "id": "B7TPrCTWBjZK",
        "outputId": "009a1cd7-01ae-45f5-a5db-4d0e8fc7f945"
      },
      "id": "B7TPrCTWBjZK",
      "execution_count": null,
      "outputs": [
        {
          "output_type": "stream",
          "name": "stdout",
          "text": [
            "<class 'int'>\n",
            "<class 'float'>\n",
            "<class 'str'>\n"
          ]
        }
      ]
    },
    {
      "cell_type": "code",
      "execution_count": null,
      "id": "8b233e41-9d44-4869-9ead-afb3ff1c0b67",
      "metadata": {
        "id": "8b233e41-9d44-4869-9ead-afb3ff1c0b67"
      },
      "outputs": [],
      "source": [
        "# Write a Python program to perform addition, subtraction, multiplication, and division on two numbers. (User input is required for the numbers)"
      ]
    },
    {
      "cell_type": "code",
      "source": [
        "a=int(input(\"enter the first number: \"))\n",
        "b=int(input(\"enter the second number: \"))\n",
        "print(\"Addition is: \",a+b)\n",
        "print(\"Subtraction is: \",a-b)\n",
        "print(\"Multiplication is: \",a*b)\n",
        "print(\"Division: \",a/b)\n"
      ],
      "metadata": {
        "colab": {
          "base_uri": "https://localhost:8080/"
        },
        "id": "OrwSRmP-BsVI",
        "outputId": "4ab10eb3-70d2-4b80-ab14-586becd9f405"
      },
      "id": "OrwSRmP-BsVI",
      "execution_count": null,
      "outputs": [
        {
          "output_type": "stream",
          "name": "stdout",
          "text": [
            "enter the first number: 25\n",
            "enter the second number: 10\n",
            "Addition is:  35\n",
            "Subtraction is:  15\n",
            "Multiplication is:  250\n",
            "Division:  2.5\n"
          ]
        }
      ]
    },
    {
      "cell_type": "code",
      "execution_count": null,
      "id": "629435bd-6bfa-44de-91d9-3b2937713257",
      "metadata": {
        "id": "629435bd-6bfa-44de-91d9-3b2937713257"
      },
      "outputs": [],
      "source": [
        "# Write a Python program to convert a string \"123\" to an integer and a float and print the results."
      ]
    },
    {
      "cell_type": "code",
      "source": [
        "a='123'\n",
        "b=int(a)\n",
        "c=float(a)\n",
        "print(b)\n",
        "print(c)"
      ],
      "metadata": {
        "colab": {
          "base_uri": "https://localhost:8080/"
        },
        "id": "UXBwu4MmB5Pe",
        "outputId": "9444a532-c701-40b7-e30e-307164237216"
      },
      "id": "UXBwu4MmB5Pe",
      "execution_count": null,
      "outputs": [
        {
          "output_type": "stream",
          "name": "stdout",
          "text": [
            "123\n",
            "123.0\n"
          ]
        }
      ]
    },
    {
      "cell_type": "code",
      "execution_count": null,
      "id": "599421f1-51c1-4653-9d78-b007fcc6861b",
      "metadata": {
        "id": "599421f1-51c1-4653-9d78-b007fcc6861b"
      },
      "outputs": [],
      "source": [
        "# Write a Python program to print the first character of a given string. (User input for the string)"
      ]
    },
    {
      "cell_type": "code",
      "source": [
        "user_input=input(\"enter the string: \")\n",
        "print(user_input[0])"
      ],
      "metadata": {
        "id": "2GLllTLzCamC",
        "outputId": "0cc057fc-de55-4145-c10f-80379f140377",
        "colab": {
          "base_uri": "https://localhost:8080/"
        }
      },
      "id": "2GLllTLzCamC",
      "execution_count": null,
      "outputs": [
        {
          "output_type": "stream",
          "name": "stdout",
          "text": [
            "enter the string: meghana\n",
            "m\n"
          ]
        }
      ]
    },
    {
      "cell_type": "code",
      "execution_count": null,
      "id": "54ee0a5d-415f-40b6-b82e-c0de12a002f9",
      "metadata": {
        "id": "54ee0a5d-415f-40b6-b82e-c0de12a002f9"
      },
      "outputs": [],
      "source": [
        "# Write a Python program to print the length of a string. (User input for the string)"
      ]
    },
    {
      "cell_type": "code",
      "source": [
        "user_input=input(\"enter the string: \")\n",
        "print(len(user_input))"
      ],
      "metadata": {
        "id": "m4C6tlobCq4b",
        "outputId": "c8c5b15f-7a18-4c30-8a48-a7a50c430067",
        "colab": {
          "base_uri": "https://localhost:8080/"
        }
      },
      "id": "m4C6tlobCq4b",
      "execution_count": null,
      "outputs": [
        {
          "output_type": "stream",
          "name": "stdout",
          "text": [
            "enter the string: meghana\n",
            "7\n"
          ]
        }
      ]
    },
    {
      "cell_type": "code",
      "execution_count": null,
      "id": "65f44c33-618e-4337-a9d1-9de888c93a0a",
      "metadata": {
        "id": "65f44c33-618e-4337-a9d1-9de888c93a0a"
      },
      "outputs": [],
      "source": [
        "# Write a Python program to check if a given string contains only alphabets."
      ]
    },
    {
      "cell_type": "code",
      "source": [
        "def only_alphabets(s):\n",
        "  return s.isalpha()\n",
        "print(only_alphabets(\"Meghana\"))\n"
      ],
      "metadata": {
        "id": "pSe0-Q_VOrdV",
        "outputId": "c9e28423-5433-4afe-8cef-4defc2d7635e",
        "colab": {
          "base_uri": "https://localhost:8080/"
        }
      },
      "id": "pSe0-Q_VOrdV",
      "execution_count": null,
      "outputs": [
        {
          "output_type": "stream",
          "name": "stdout",
          "text": [
            "True\n"
          ]
        }
      ]
    },
    {
      "cell_type": "code",
      "execution_count": null,
      "id": "37463128-2b51-4860-b6bf-40d3c03fbe84",
      "metadata": {
        "id": "37463128-2b51-4860-b6bf-40d3c03fbe84"
      },
      "outputs": [],
      "source": [
        "# Write a Python program to concatenate two strings. (User input for the strings)"
      ]
    },
    {
      "cell_type": "code",
      "source": [
        "user_input=input(\"Enter the string: \")\n",
        "user_input1=input(\"Enter the string: \")\n",
        "print(user_input+user_input1)"
      ],
      "metadata": {
        "id": "s627tqrtOr_N",
        "outputId": "2436ff3b-b68c-4f73-fc84-33f9c881d851",
        "colab": {
          "base_uri": "https://localhost:8080/"
        }
      },
      "id": "s627tqrtOr_N",
      "execution_count": null,
      "outputs": [
        {
          "output_type": "stream",
          "name": "stdout",
          "text": [
            "Enter the string: meghana\n",
            "Enter the string: mudhiraj\n",
            "meghanamudhiraj\n"
          ]
        }
      ]
    },
    {
      "cell_type": "code",
      "execution_count": null,
      "id": "b1c5d364-eccf-473a-b03a-ab15f3e917cf",
      "metadata": {
        "id": "b1c5d364-eccf-473a-b03a-ab15f3e917cf"
      },
      "outputs": [],
      "source": [
        "# Write a Python program to find the index of a substring \"abc\" in a string. (User input for the string)"
      ]
    },
    {
      "cell_type": "code",
      "source": [
        "def find_index_substring(string, substring):\n",
        "  return string.find(substring)\n",
        "\n",
        "user_input=input(\"Enter the string: \")\n",
        "substring=\"abc\"\n",
        "\n",
        "index=find_index_substring(user_input , substring)\n",
        "if index != -1:\n",
        "  print(f\"The substring {substring} is  found in the index {index}\")\n",
        "else:\n",
        "  print(f\"The substring {substring} is not found in the index {index} \")\n"
      ],
      "metadata": {
        "id": "z0EvolYDOsrN",
        "outputId": "c7ac2e04-7905-40c4-a4d8-7c02e222b1c9",
        "colab": {
          "base_uri": "https://localhost:8080/"
        }
      },
      "id": "z0EvolYDOsrN",
      "execution_count": null,
      "outputs": [
        {
          "output_type": "stream",
          "name": "stdout",
          "text": [
            "Enter the string: i have abc \n",
            "The substring abc is  found in the index 7\n"
          ]
        }
      ]
    },
    {
      "cell_type": "code",
      "execution_count": null,
      "id": "cc92afd9-ba4b-4934-a79d-f26825b4efc2",
      "metadata": {
        "id": "cc92afd9-ba4b-4934-a79d-f26825b4efc2"
      },
      "outputs": [],
      "source": [
        "# Write a Python program to convert a string to both uppercase and lowercase. (User input for the string)"
      ]
    },
    {
      "cell_type": "code",
      "source": [
        "user=input(\"Enter the string: \")\n",
        "user.upper()\n",
        "user.lower()\n",
        "print(user.upper())\n",
        "print(user.lower())\n"
      ],
      "metadata": {
        "id": "0tgc6UcvOtck",
        "outputId": "ff605988-ca4d-4e21-c963-311551aba6e1",
        "colab": {
          "base_uri": "https://localhost:8080/"
        }
      },
      "id": "0tgc6UcvOtck",
      "execution_count": null,
      "outputs": [
        {
          "output_type": "stream",
          "name": "stdout",
          "text": [
            "Enter the string: meghana\n",
            "MEGHANA\n",
            "meghana\n"
          ]
        }
      ]
    },
    {
      "cell_type": "code",
      "execution_count": null,
      "id": "f24f79b3-da8b-44bf-8310-c68442e86e3e",
      "metadata": {
        "id": "f24f79b3-da8b-44bf-8310-c68442e86e3e"
      },
      "outputs": [],
      "source": [
        "# Write a Python program to count how many times a particular character appears in a string. (User input for string and character)"
      ]
    },
    {
      "cell_type": "code",
      "source": [
        "user=input(\"Enter the string: \")\n",
        "char_to_count=input(\"Enter the character to count: \")\n",
        "count=user.count(char_to_count)\n",
        "print(f\"The character {char_to_count} appears {count} times in the string\")\n"
      ],
      "metadata": {
        "id": "dN_IHD15OuRy",
        "outputId": "f800fe98-1379-4f62-b335-6c67c1c27ff6",
        "colab": {
          "base_uri": "https://localhost:8080/"
        }
      },
      "id": "dN_IHD15OuRy",
      "execution_count": null,
      "outputs": [
        {
          "output_type": "stream",
          "name": "stdout",
          "text": [
            "Enter the string: Meghana\n",
            "Enter the character to count: a\n",
            "The character a appears 2 times in the string\n"
          ]
        }
      ]
    },
    {
      "cell_type": "code",
      "execution_count": null,
      "id": "f2e8f25c-5c34-44eb-b749-7cc4c100b9a8",
      "metadata": {
        "id": "f2e8f25c-5c34-44eb-b749-7cc4c100b9a8"
      },
      "outputs": [],
      "source": [
        "# Write a Python program to take the user's name as input and print a personalized greeting. (Hello, username, Good Morning)"
      ]
    },
    {
      "cell_type": "code",
      "source": [
        "user=input(\"Enter your name: \")\n",
        "print(f\"Hello {user} Good Morning\")\n"
      ],
      "metadata": {
        "id": "O7SjGcIpOvBs",
        "outputId": "b8d9c374-b853-49b0-b858-570a9dcf8260",
        "colab": {
          "base_uri": "https://localhost:8080/"
        }
      },
      "id": "O7SjGcIpOvBs",
      "execution_count": null,
      "outputs": [
        {
          "output_type": "stream",
          "name": "stdout",
          "text": [
            "Enter your name: Meghana\n",
            "Hello Meghana Good Morning\n"
          ]
        }
      ]
    },
    {
      "cell_type": "code",
      "execution_count": null,
      "id": "189296cf-77e6-4f48-b010-77458da5bc9d",
      "metadata": {
        "id": "189296cf-77e6-4f48-b010-77458da5bc9d"
      },
      "outputs": [],
      "source": [
        "# Write a Python program to take two numbers as input and print their sum."
      ]
    },
    {
      "cell_type": "code",
      "source": [
        "a=50\n",
        "b=54\n",
        "a+b\n"
      ],
      "metadata": {
        "id": "Q5Dh9ywfOvr5",
        "outputId": "04d79ad7-59c2-4f4b-facc-ac8d52b9de20",
        "colab": {
          "base_uri": "https://localhost:8080/"
        }
      },
      "id": "Q5Dh9ywfOvr5",
      "execution_count": null,
      "outputs": [
        {
          "output_type": "execute_result",
          "data": {
            "text/plain": [
              "104"
            ]
          },
          "metadata": {},
          "execution_count": 14
        }
      ]
    },
    {
      "cell_type": "code",
      "execution_count": null,
      "id": "0563b26c-0218-47b8-9035-98beb73b0931",
      "metadata": {
        "id": "0563b26c-0218-47b8-9035-98beb73b0931"
      },
      "outputs": [],
      "source": [
        "# Write a Python program to format and display a string containing the user's name and age. (User input required)"
      ]
    },
    {
      "cell_type": "code",
      "source": [
        "name=input(\"Enter your Name: \")\n",
        "age=input(\"Enter your age:\" )\n",
        "print(\"User's Name is:\",name)\n",
        "print(\"User's Age is:\",age)\n"
      ],
      "metadata": {
        "id": "7drPr7FIOwbA",
        "outputId": "4465400a-9a5d-43d1-965c-24f1f78a93f2",
        "colab": {
          "base_uri": "https://localhost:8080/"
        }
      },
      "id": "7drPr7FIOwbA",
      "execution_count": null,
      "outputs": [
        {
          "output_type": "stream",
          "name": "stdout",
          "text": [
            "Enter your Name: meghana\n",
            "Enter your age:20\n",
            "User's Name is: meghana\n",
            "User's Age is: 20\n"
          ]
        }
      ]
    },
    {
      "cell_type": "markdown",
      "id": "0bde6e5a-0415-4b06-8b5a-95fa252b34eb",
      "metadata": {
        "id": "0bde6e5a-0415-4b06-8b5a-95fa252b34eb"
      },
      "source": [
        "## Control Structures (Conditionals and Loops)"
      ]
    },
    {
      "cell_type": "code",
      "execution_count": null,
      "id": "aefff5f3-b61e-43e6-a458-7367ef1af9de",
      "metadata": {
        "id": "aefff5f3-b61e-43e6-a458-7367ef1af9de"
      },
      "outputs": [],
      "source": [
        "# Write a Python program that takes a number as input and checks whether it is positive, negative, or zero."
      ]
    },
    {
      "cell_type": "code",
      "source": [
        "a=20\n",
        "if (a>0):\n",
        "  print(f\"The number {a} is positive\" )\n",
        "elif (a<0):\n",
        "  print(f\"The number {a} is negative\" )\n",
        "else:\n",
        "  print(f\"The number {a} is zero \")\n"
      ],
      "metadata": {
        "id": "L56QU3VCFyto",
        "outputId": "103fd572-b78b-4cbb-d3a6-250fa2c3b359",
        "colab": {
          "base_uri": "https://localhost:8080/"
        }
      },
      "id": "L56QU3VCFyto",
      "execution_count": null,
      "outputs": [
        {
          "output_type": "stream",
          "name": "stdout",
          "text": [
            "The number 20 is positive\n"
          ]
        }
      ]
    },
    {
      "cell_type": "code",
      "execution_count": null,
      "id": "4dc6d14b-6d22-4348-859a-2a03f9be65f7",
      "metadata": {
        "id": "4dc6d14b-6d22-4348-859a-2a03f9be65f7"
      },
      "outputs": [],
      "source": [
        "# Write a Python program to find the maximum of three numbers. (User input for the numbers)"
      ]
    },
    {
      "cell_type": "code",
      "source": [
        "user1=input(\"Enter the first number: \")\n",
        "user2=input(\"Enter the second number: \")\n",
        "user3=input(\"Enter the third number: \")\n",
        "\n",
        "maximum=max(user1,user2,user3)\n",
        "print(f\"The maximum number is {maximum}\")"
      ],
      "metadata": {
        "id": "dH_Kvk07PjEo",
        "colab": {
          "base_uri": "https://localhost:8080/"
        },
        "outputId": "441add26-18da-4574-fbac-a0616265036d"
      },
      "id": "dH_Kvk07PjEo",
      "execution_count": null,
      "outputs": [
        {
          "output_type": "stream",
          "name": "stdout",
          "text": [
            "Enter the first number: 147\n",
            "Enter the second number: 125\n",
            "Enter the third number: 14\n",
            "The maximum number is 147\n"
          ]
        }
      ]
    },
    {
      "cell_type": "code",
      "execution_count": null,
      "id": "3f6d1f45-eb68-4142-89d6-510046f21879",
      "metadata": {
        "id": "3f6d1f45-eb68-4142-89d6-510046f21879"
      },
      "outputs": [],
      "source": [
        "# Write a Python program to check if a year is a leap year. (User input for the year)"
      ]
    },
    {
      "cell_type": "code",
      "source": [
        "user=int(input(\"Enter the year: \"))\n",
        "if (user%4==0):\n",
        "  print(f\"{user} is a leap year\")\n",
        "else:\n",
        "  print(f\"{user} is not a leap year\")"
      ],
      "metadata": {
        "colab": {
          "base_uri": "https://localhost:8080/"
        },
        "id": "LhMKGWlHAa7t",
        "outputId": "7dcda0b8-1e7e-4c16-c803-aa206850afda"
      },
      "id": "LhMKGWlHAa7t",
      "execution_count": null,
      "outputs": [
        {
          "output_type": "stream",
          "name": "stdout",
          "text": [
            "Enter the year: 2004\n",
            "2004 is a leap year\n"
          ]
        }
      ]
    },
    {
      "cell_type": "code",
      "execution_count": null,
      "id": "b6a07105-6fa5-4f70-b64b-ebd66afc3c2b",
      "metadata": {
        "id": "b6a07105-6fa5-4f70-b64b-ebd66afc3c2b"
      },
      "outputs": [],
      "source": [
        "# Write a Python program to check if a number is divisible by both 3 and 5. (User input for the number)"
      ]
    },
    {
      "cell_type": "code",
      "source": [
        "a=float(input(\"Enter a number: \"))\n",
        "\n",
        "if(a%3==0 and a%5==0):\n",
        "  print(f\"{a} is divisible by both 3 and 5\")\n",
        "else:\n",
        "  print(f\"{a} is not divisible by both 3 and 5\")\n",
        "\n",
        "\n"
      ],
      "metadata": {
        "colab": {
          "base_uri": "https://localhost:8080/"
        },
        "id": "zvqVVB-dA-QL",
        "outputId": "b666775f-f5c4-4f17-b8c2-968fe968545c"
      },
      "id": "zvqVVB-dA-QL",
      "execution_count": null,
      "outputs": [
        {
          "output_type": "stream",
          "name": "stdout",
          "text": [
            "Enter a number: 15.3\n",
            "15.3 is not divisible by both 3 and 5\n"
          ]
        }
      ]
    },
    {
      "cell_type": "code",
      "execution_count": null,
      "id": "d10c9005-b85d-42f9-81d0-65d149415888",
      "metadata": {
        "id": "d10c9005-b85d-42f9-81d0-65d149415888"
      },
      "outputs": [],
      "source": [
        "# Write a Python program to check if a string is a palindrome. (User input for the string)"
      ]
    },
    {
      "cell_type": "code",
      "source": [
        "\n",
        "def is_palindrome(s):\n",
        "\n",
        "    s = s.replace(\" \", \"\").lower()\n",
        "\n",
        "    return s == s[::-1]\n",
        "\n",
        "\n",
        "user_input = input(\"Enter a string: \")\n",
        "\n",
        "if is_palindrome(user_input):\n",
        "\n",
        "    print(f\"'{user_input}' is a palindrome!\")\n",
        "else:\n",
        "    print(f\"'{user_input}' is not a palindrome.\")\n",
        "\n",
        "\n"
      ],
      "metadata": {
        "colab": {
          "base_uri": "https://localhost:8080/"
        },
        "id": "T8nHcxAWDP2q",
        "outputId": "10e2b372-8f34-4d26-f041-785ccb233a19"
      },
      "id": "T8nHcxAWDP2q",
      "execution_count": null,
      "outputs": [
        {
          "output_type": "stream",
          "name": "stdout",
          "text": [
            "Enter a string: madam\n",
            "'madam' is a palindrome!\n"
          ]
        }
      ]
    },
    {
      "cell_type": "code",
      "execution_count": null,
      "id": "82d76cdf-efc6-45c6-ab09-9d1f17b3d857",
      "metadata": {
        "id": "82d76cdf-efc6-45c6-ab09-9d1f17b3d857"
      },
      "outputs": [],
      "source": [
        "# Write a Python program to print numbers from 1 to 10 using a for loop."
      ]
    },
    {
      "cell_type": "code",
      "source": [
        "for i in range(1,11):\n",
        "  print(f\"The Number: {i} \")\n"
      ],
      "metadata": {
        "id": "yvBgdWQ9RhB4",
        "outputId": "bc9b2eef-2f0f-455b-cf2e-89dd6f2f827d",
        "colab": {
          "base_uri": "https://localhost:8080/"
        }
      },
      "id": "yvBgdWQ9RhB4",
      "execution_count": null,
      "outputs": [
        {
          "output_type": "stream",
          "name": "stdout",
          "text": [
            "The Number: 1 \n",
            "The Number: 2 \n",
            "The Number: 3 \n",
            "The Number: 4 \n",
            "The Number: 5 \n",
            "The Number: 6 \n",
            "The Number: 7 \n",
            "The Number: 8 \n",
            "The Number: 9 \n",
            "The Number: 10 \n"
          ]
        }
      ]
    },
    {
      "cell_type": "code",
      "execution_count": null,
      "id": "d09e8994-e984-4c12-ab1e-1bfc6938a389",
      "metadata": {
        "id": "d09e8994-e984-4c12-ab1e-1bfc6938a389"
      },
      "outputs": [],
      "source": [
        "# Write a Python program to print all even numbers from 1 to 20 using a while loop."
      ]
    },
    {
      "cell_type": "code",
      "source": [
        "number=1\n",
        "\n",
        "while number<=20:\n",
        "  if number%2==0:\n",
        "    print(f\"The even number is {number}\")\n",
        "  number+=1\n"
      ],
      "metadata": {
        "id": "hKP8xEIvVRu4",
        "outputId": "f2a218d1-c967-483e-8a97-e3055d2bbe9d",
        "colab": {
          "base_uri": "https://localhost:8080/"
        }
      },
      "id": "hKP8xEIvVRu4",
      "execution_count": null,
      "outputs": [
        {
          "output_type": "stream",
          "name": "stdout",
          "text": [
            "The even number is 2\n",
            "The even number is 4\n",
            "The even number is 6\n",
            "The even number is 8\n",
            "The even number is 10\n",
            "The even number is 12\n",
            "The even number is 14\n",
            "The even number is 16\n",
            "The even number is 18\n",
            "The even number is 20\n"
          ]
        }
      ]
    },
    {
      "cell_type": "code",
      "execution_count": null,
      "id": "c09ca878-167e-49ca-97f0-247a43c9b472",
      "metadata": {
        "id": "c09ca878-167e-49ca-97f0-247a43c9b472"
      },
      "outputs": [],
      "source": [
        "# Write a Python program to print the multiplication table of a given number using a for loop. (User input for the number)"
      ]
    },
    {
      "cell_type": "code",
      "source": [
        "user_input=int(input(\"Enter the number for multiplication table is: \"))\n",
        "\n",
        "for i in range(1,11):\n",
        "  print(f\"{user_input} * {i} = {user_input*i}\")"
      ],
      "metadata": {
        "id": "B7vEKEcyWg5c",
        "outputId": "1d7041f1-b8bd-4786-8de5-18fac321724a",
        "colab": {
          "base_uri": "https://localhost:8080/"
        }
      },
      "id": "B7vEKEcyWg5c",
      "execution_count": null,
      "outputs": [
        {
          "output_type": "stream",
          "name": "stdout",
          "text": [
            "Enter the number for multiplication table is: 80\n",
            "80 * 1 = 80\n",
            "80 * 2 = 160\n",
            "80 * 3 = 240\n",
            "80 * 4 = 320\n",
            "80 * 5 = 400\n",
            "80 * 6 = 480\n",
            "80 * 7 = 560\n",
            "80 * 8 = 640\n",
            "80 * 9 = 720\n",
            "80 * 10 = 800\n"
          ]
        }
      ]
    },
    {
      "cell_type": "code",
      "execution_count": null,
      "id": "b72118ab-e62d-4af9-bcec-e1cc6af31b25",
      "metadata": {
        "id": "b72118ab-e62d-4af9-bcec-e1cc6af31b25"
      },
      "outputs": [],
      "source": [
        "# Write a Python program to calculate the sum of all numbers from 1 to n using a while loop. (User input for n)"
      ]
    },
    {
      "cell_type": "code",
      "source": [
        "\n",
        "n = int(input(\"Enter a number (n) to calculate the sum from 1 to n: \"))\n",
        "sum = 0\n",
        "i = 1\n",
        "while i <= n:\n",
        "    sum += i\n",
        "    i += 1\n",
        "\n",
        "print(f\"The sum of all numbers from 1 to {n} is: {sum}\")\n"
      ],
      "metadata": {
        "id": "I3LO-X1dbz5v",
        "outputId": "e66d6792-3e67-44e6-ce62-cbd563249780",
        "colab": {
          "base_uri": "https://localhost:8080/"
        }
      },
      "id": "I3LO-X1dbz5v",
      "execution_count": null,
      "outputs": [
        {
          "output_type": "stream",
          "name": "stdout",
          "text": [
            "Enter a number (n) to calculate the sum from 1 to n: 10\n",
            "The sum of all numbers from 1 to 10 is: 55\n"
          ]
        }
      ]
    },
    {
      "cell_type": "code",
      "execution_count": null,
      "id": "ae93621f-11a2-40b7-97bc-3002f03ac36a",
      "metadata": {
        "id": "ae93621f-11a2-40b7-97bc-3002f03ac36a"
      },
      "outputs": [],
      "source": [
        "# Write a Python program to calculate the factorial of a number using a while loop. (User input for the number)"
      ]
    },
    {
      "cell_type": "code",
      "source": [
        "user_input=int(input(\"Enter the number: \"))\n",
        "factorial=1\n",
        "i=1\n",
        "while i<=user_input:\n",
        "  factorial*=i\n",
        "  i+=1\n",
        "print(f\"The factorial of {user_input} is {factorial}\")"
      ],
      "metadata": {
        "id": "x2Eje_c__cQ6",
        "outputId": "1ffe7880-becc-4fc4-cc79-fd881400200d",
        "colab": {
          "base_uri": "https://localhost:8080/"
        }
      },
      "id": "x2Eje_c__cQ6",
      "execution_count": null,
      "outputs": [
        {
          "output_type": "stream",
          "name": "stdout",
          "text": [
            "Enter the number: 10\n",
            "The factorial of 10 is 3628800\n"
          ]
        }
      ]
    },
    {
      "cell_type": "code",
      "execution_count": null,
      "id": "68467ccc-d696-4ef1-84c4-164c9d87f755",
      "metadata": {
        "id": "68467ccc-d696-4ef1-84c4-164c9d87f755"
      },
      "outputs": [],
      "source": [
        "# Write a Python program to print the Fibonacci sequence up to n terms. (User input for n)"
      ]
    },
    {
      "cell_type": "code",
      "source": [
        "user_input=int(input(\"Enter the number: \"))\n",
        "a,b=0,1\n",
        "count=0\n",
        "while count<user_input:\n",
        "  print(f\"The Fibonacci sequence is :{a}\")\n",
        "  a,b=b,a+b\n",
        "  count+=1"
      ],
      "metadata": {
        "id": "psslrAcLBZjV",
        "outputId": "ba4753e2-2bad-4962-e340-747c2e6eb93b",
        "colab": {
          "base_uri": "https://localhost:8080/"
        }
      },
      "id": "psslrAcLBZjV",
      "execution_count": null,
      "outputs": [
        {
          "output_type": "stream",
          "name": "stdout",
          "text": [
            "Enter the number: 10\n",
            "The Fibonacci sequence is :0\n",
            "The Fibonacci sequence is :1\n",
            "The Fibonacci sequence is :1\n",
            "The Fibonacci sequence is :2\n",
            "The Fibonacci sequence is :3\n",
            "The Fibonacci sequence is :5\n",
            "The Fibonacci sequence is :8\n",
            "The Fibonacci sequence is :13\n",
            "The Fibonacci sequence is :21\n",
            "The Fibonacci sequence is :34\n"
          ]
        }
      ]
    },
    {
      "cell_type": "code",
      "execution_count": null,
      "id": "5bebd1f3-2606-4102-aa55-01cb1650f632",
      "metadata": {
        "id": "5bebd1f3-2606-4102-aa55-01cb1650f632"
      },
      "outputs": [],
      "source": [
        "# Write a Python program to find all the prime numbers from 1 to 100."
      ]
    },
    {
      "cell_type": "code",
      "source": [
        "for i in range(1,101):\n",
        "  if i>1:\n",
        "    for j in range(2,i):\n",
        "      if i%j==0:\n",
        "        break\n",
        "    else:\n",
        "      print(f\"The prime number is {i}\")"
      ],
      "metadata": {
        "id": "4XpzZ1hECoqe",
        "outputId": "06af95c5-f978-47e7-bddf-166fda88b8a7",
        "colab": {
          "base_uri": "https://localhost:8080/"
        }
      },
      "id": "4XpzZ1hECoqe",
      "execution_count": null,
      "outputs": [
        {
          "output_type": "stream",
          "name": "stdout",
          "text": [
            "The prime number is 2\n",
            "The prime number is 3\n",
            "The prime number is 5\n",
            "The prime number is 7\n",
            "The prime number is 11\n",
            "The prime number is 13\n",
            "The prime number is 17\n",
            "The prime number is 19\n",
            "The prime number is 23\n",
            "The prime number is 29\n",
            "The prime number is 31\n",
            "The prime number is 37\n",
            "The prime number is 41\n",
            "The prime number is 43\n",
            "The prime number is 47\n",
            "The prime number is 53\n",
            "The prime number is 59\n",
            "The prime number is 61\n",
            "The prime number is 67\n",
            "The prime number is 71\n",
            "The prime number is 73\n",
            "The prime number is 79\n",
            "The prime number is 83\n",
            "The prime number is 89\n",
            "The prime number is 97\n"
          ]
        }
      ]
    },
    {
      "cell_type": "code",
      "execution_count": null,
      "id": "0a3f894e-52ba-4c0b-9158-a70f31f4fd49",
      "metadata": {
        "id": "0a3f894e-52ba-4c0b-9158-a70f31f4fd49"
      },
      "outputs": [],
      "source": [
        "# Write a Python program that breaks out of a loop when a specific condition is met (e.g., when a number greater than 50 is found)."
      ]
    },
    {
      "cell_type": "code",
      "source": [
        "import random\n",
        "\n",
        "numbers = [random.randint(1, 100) for _ in range(10) ]\n",
        "print(\"Generated numbers:\", numbers)\n",
        "\n",
        "for number in numbers:\n",
        "    print(f\"Checking number: {number}\")\n",
        "    if number > 50:\n",
        "        print(f\"Number greater than 50 found: {number}\")\n",
        "        break\n",
        "else:\n",
        "\n",
        "    print(\"No number greater than 50 was found.\")\n"
      ],
      "metadata": {
        "id": "-APLa2ZoDAA6",
        "outputId": "8992d78b-c27f-4667-cba7-33fd1423ee03",
        "colab": {
          "base_uri": "https://localhost:8080/"
        }
      },
      "id": "-APLa2ZoDAA6",
      "execution_count": null,
      "outputs": [
        {
          "output_type": "stream",
          "name": "stdout",
          "text": [
            "Generated numbers: [58, 3, 25, 27, 16, 23, 39, 81, 25, 32]\n",
            "Checking number: 58\n",
            "Number greater than 50 found: 58\n"
          ]
        }
      ]
    },
    {
      "cell_type": "code",
      "execution_count": null,
      "id": "499b91d0-1f1b-494f-af2b-8cc3a06d90ed",
      "metadata": {
        "id": "499b91d0-1f1b-494f-af2b-8cc3a06d90ed"
      },
      "outputs": [],
      "source": [
        "# Write a Python program to skip even numbers while printing numbers from 1 to 20 using a for loop."
      ]
    },
    {
      "cell_type": "code",
      "source": [
        "for i in range (1,21):\n",
        "  if i%2==0:\n",
        "    print(f\"The odd number is {i}\")"
      ],
      "metadata": {
        "id": "OX9d-GpzFMnS",
        "outputId": "353982cf-a406-4970-96a7-9ca3f45f37d5",
        "colab": {
          "base_uri": "https://localhost:8080/"
        }
      },
      "id": "OX9d-GpzFMnS",
      "execution_count": null,
      "outputs": [
        {
          "output_type": "stream",
          "name": "stdout",
          "text": [
            "The odd number is 2\n",
            "The odd number is 4\n",
            "The odd number is 6\n",
            "The odd number is 8\n",
            "The odd number is 10\n",
            "The odd number is 12\n",
            "The odd number is 14\n",
            "The odd number is 16\n",
            "The odd number is 18\n",
            "The odd number is 20\n"
          ]
        }
      ]
    },
    {
      "cell_type": "code",
      "execution_count": null,
      "id": "f8ffed70-dfde-4262-a2fd-0d35d69b5fb1",
      "metadata": {
        "id": "f8ffed70-dfde-4262-a2fd-0d35d69b5fb1"
      },
      "outputs": [],
      "source": [
        "# Write a Python program to count how many times a particular character appears in a string using a for loop. (User input for string and character)"
      ]
    },
    {
      "cell_type": "code",
      "source": [
        "user_input=input(\"Enter the string: \")\n",
        "char_to_count=input(\"Enter the character to count: \")\n",
        "count=0\n",
        "for char in user_input:\n",
        "  if char==char_to_count:\n",
        "    count+=1\n",
        "print(f\"The character {char_to_count} is appeared in a string {user_input} is : {count}\")"
      ],
      "metadata": {
        "id": "3x8GoJwzFvWe",
        "outputId": "f29edc4d-fae7-4d94-894b-2b6b4d901ee3",
        "colab": {
          "base_uri": "https://localhost:8080/"
        }
      },
      "id": "3x8GoJwzFvWe",
      "execution_count": null,
      "outputs": [
        {
          "output_type": "stream",
          "name": "stdout",
          "text": [
            "Enter the string: meghana\n",
            "Enter the character to count: a\n",
            "The character a is appeared in a string meghana is : 2\n"
          ]
        }
      ]
    },
    {
      "cell_type": "code",
      "execution_count": null,
      "id": "01f976ed-4dcd-4842-ae84-d3b5cc42d011",
      "metadata": {
        "id": "01f976ed-4dcd-4842-ae84-d3b5cc42d011"
      },
      "outputs": [],
      "source": [
        "# Write a Python program to calculate the sum of digits of a number. (User input for the number)"
      ]
    },
    {
      "cell_type": "code",
      "source": [
        "\n",
        "number = int(input(\"Enter a number: \"))\n",
        "\n",
        "number = abs(number)\n",
        "\n",
        "sum_of_digits = 0\n",
        "\n",
        "while number > 0:\n",
        "\n",
        "    digit = number % 10\n",
        "    sum_of_digits += digit\n",
        "\n",
        "    number = number // 10\n",
        "\n",
        "print(f\"The sum of the digits is {sum_of_digits}.\")\n",
        "\n"
      ],
      "metadata": {
        "id": "Bg6cexdNIQLn",
        "outputId": "b19a5bbe-3b7d-4160-ac5b-162bf3e9f680",
        "colab": {
          "base_uri": "https://localhost:8080/"
        }
      },
      "id": "Bg6cexdNIQLn",
      "execution_count": null,
      "outputs": [
        {
          "output_type": "stream",
          "name": "stdout",
          "text": [
            "Enter a number: 58\n",
            "The sum of the digits is 13.\n"
          ]
        }
      ]
    },
    {
      "cell_type": "markdown",
      "id": "fe644fae-f262-48dd-b7ff-08eb747d297e",
      "metadata": {
        "id": "fe644fae-f262-48dd-b7ff-08eb747d297e"
      },
      "source": [
        "## Data Structures (Lists, Tuples, Sets, Dictionaries)"
      ]
    },
    {
      "cell_type": "code",
      "execution_count": null,
      "id": "a0333c26-8e19-4c71-9722-d32cf8625ef6",
      "metadata": {
        "id": "a0333c26-8e19-4c71-9722-d32cf8625ef6"
      },
      "outputs": [],
      "source": [
        "# Write a Python program to create a list of integers and print the sum of the elements."
      ]
    },
    {
      "cell_type": "code",
      "source": [
        "list=[1,7,8,5,9,3]\n",
        "sum=0\n",
        "for i in list:\n",
        "  sum+=i\n",
        "print(f\"The sum of the elements in the {sum}\")"
      ],
      "metadata": {
        "id": "w9KaFRYtKJP6",
        "outputId": "bcb7d5f1-d166-4f79-c1a2-2c2022f4198c",
        "colab": {
          "base_uri": "https://localhost:8080/"
        }
      },
      "id": "w9KaFRYtKJP6",
      "execution_count": null,
      "outputs": [
        {
          "output_type": "stream",
          "name": "stdout",
          "text": [
            "The sum of the elements in the 33\n"
          ]
        }
      ]
    },
    {
      "cell_type": "code",
      "execution_count": null,
      "id": "5a23046d-80b0-4f8d-a02f-4e3d833c0443",
      "metadata": {
        "id": "5a23046d-80b0-4f8d-a02f-4e3d833c0443"
      },
      "outputs": [],
      "source": [
        "# Write a Python program to find the largest element in a list."
      ]
    },
    {
      "cell_type": "code",
      "source": [
        "list=[1,7,8,4,8,58]\n",
        "largest=max(list)\n",
        "print(f\"The largest element in the list is : {largest}\")"
      ],
      "metadata": {
        "id": "6TA5X37YKkrW",
        "outputId": "0808a29a-b33b-410a-823e-afbbefb186e8",
        "colab": {
          "base_uri": "https://localhost:8080/"
        }
      },
      "id": "6TA5X37YKkrW",
      "execution_count": null,
      "outputs": [
        {
          "output_type": "stream",
          "name": "stdout",
          "text": [
            "The largest element in the list is : 58\n"
          ]
        }
      ]
    },
    {
      "cell_type": "code",
      "execution_count": null,
      "id": "9939c2d2-90fd-4e80-81bc-227c72e60e37",
      "metadata": {
        "id": "9939c2d2-90fd-4e80-81bc-227c72e60e37"
      },
      "outputs": [],
      "source": [
        "# Write a Python program to reverse a list."
      ]
    },
    {
      "cell_type": "code",
      "source": [
        "list=[5,7,8,4,8,58,5,6]\n",
        "reverse=list[::-1]\n",
        "print(f\"The reverse of the list is : {reverse}\")"
      ],
      "metadata": {
        "id": "v0ikZariLVcZ",
        "outputId": "f5af2a7d-e7ab-4c0e-88b7-c9a2379b265f",
        "colab": {
          "base_uri": "https://localhost:8080/"
        }
      },
      "id": "v0ikZariLVcZ",
      "execution_count": null,
      "outputs": [
        {
          "output_type": "stream",
          "name": "stdout",
          "text": [
            "The reverse of the list is : [6, 5, 58, 8, 4, 8, 7, 5]\n"
          ]
        }
      ]
    },
    {
      "cell_type": "code",
      "execution_count": null,
      "id": "aa287db8-057b-48d4-a6d8-18cc53eb7178",
      "metadata": {
        "id": "aa287db8-057b-48d4-a6d8-18cc53eb7178"
      },
      "outputs": [],
      "source": [
        "# Write a Python program to remove all occurrences of a specific element from a list."
      ]
    },
    {
      "cell_type": "code",
      "source": [
        "x=[1,2,3,4,5]\n",
        "n=int(input(\"enter the element to remove from the list:\"))\n",
        "x.remove(n)\n",
        "print(x)\n"
      ],
      "metadata": {
        "id": "09woVW-aLhR8",
        "outputId": "22b65f40-c891-4c9b-d602-adba617c9ce3",
        "colab": {
          "base_uri": "https://localhost:8080/"
        }
      },
      "id": "09woVW-aLhR8",
      "execution_count": null,
      "outputs": [
        {
          "output_type": "stream",
          "name": "stdout",
          "text": [
            "enter the element to remove from the list:1\n",
            "[2, 3, 4, 5]\n"
          ]
        }
      ]
    },
    {
      "cell_type": "code",
      "source": [
        "# User input\n",
        "input_list = input(\"Enter a list of elements separated by spaces: \").split()\n",
        "element_to_remove = input(\"Enter the element to remove: \")\n",
        "\n",
        "# Using list comprehension to remove all occurrences\n",
        "input_list = [item for item in input_list if item != element_to_remove]\n",
        "\n",
        "# Display the result\n",
        "print(f\"List after removing '{element_to_remove}': {input_list}\")\n"
      ],
      "metadata": {
        "id": "HXO8EYkTUWAb",
        "outputId": "9f991b53-fa13-420a-9e03-6f4b613b30fc",
        "colab": {
          "base_uri": "https://localhost:8080/"
        }
      },
      "id": "HXO8EYkTUWAb",
      "execution_count": null,
      "outputs": [
        {
          "output_type": "stream",
          "name": "stdout",
          "text": [
            "Enter a list of elements separated by spaces: 1,2,3,65,7,\n",
            "Enter the element to remove: 3\n",
            "List after removing '3': ['1,2,3,65,7,']\n"
          ]
        }
      ]
    },
    {
      "cell_type": "code",
      "execution_count": null,
      "id": "da9ba926-0ab5-46e9-b66d-128088c3225b",
      "metadata": {
        "id": "da9ba926-0ab5-46e9-b66d-128088c3225b"
      },
      "outputs": [],
      "source": [
        "# Write a Python program to find the index of an element in a list."
      ]
    },
    {
      "cell_type": "code",
      "source": [
        "list=[1,45,8,9,6,4,3]\n",
        "index=list.index(8)\n",
        "print(f\"The index of the element is : {index}\")"
      ],
      "metadata": {
        "id": "BhtUP5apMcsE",
        "outputId": "a38b5695-cf29-4c86-91be-1c5ebe44e8f3",
        "colab": {
          "base_uri": "https://localhost:8080/"
        }
      },
      "id": "BhtUP5apMcsE",
      "execution_count": null,
      "outputs": [
        {
          "output_type": "stream",
          "name": "stdout",
          "text": [
            "The index of the element is : 2\n"
          ]
        }
      ]
    },
    {
      "cell_type": "code",
      "execution_count": null,
      "id": "9601b6e4-cb90-4e1f-87b4-38ed37076e0d",
      "metadata": {
        "id": "9601b6e4-cb90-4e1f-87b4-38ed37076e0d"
      },
      "outputs": [],
      "source": [
        "# Write a Python program to find if a specific element exists in a list."
      ]
    },
    {
      "cell_type": "code",
      "source": [
        "list=[1,4,5,8,9,6,4,3]\n",
        "element=int(input(\"Enter the element: \"))\n",
        "if element in list:\n",
        "  print(f\"The element {element} exists in the list\")\n",
        "else:\n",
        "  print(f\"The element {element} does not exists in the list\")"
      ],
      "metadata": {
        "id": "JsfUKGnbMrDE",
        "outputId": "db700bad-9977-46d6-ef9e-1a5753dd7a1c",
        "colab": {
          "base_uri": "https://localhost:8080/"
        }
      },
      "id": "JsfUKGnbMrDE",
      "execution_count": null,
      "outputs": [
        {
          "output_type": "stream",
          "name": "stdout",
          "text": [
            "Enter the element: 10\n",
            "The element 10 does not exists in the list\n"
          ]
        }
      ]
    },
    {
      "cell_type": "code",
      "execution_count": null,
      "id": "9d8e7311-81de-4da2-826c-c4dcad28ed9f",
      "metadata": {
        "id": "9d8e7311-81de-4da2-826c-c4dcad28ed9f"
      },
      "outputs": [],
      "source": [
        "# Write a Python program to remove duplicates from a list."
      ]
    },
    {
      "cell_type": "code",
      "source": [
        "list=[1,4,5,8,9,6,4,3,2,5,7]\n",
        "remove=list.remove(7)\n",
        "print(f\"The remove element from the list is : {remove}\")"
      ],
      "metadata": {
        "id": "1yNR367COoh5",
        "outputId": "76281847-4289-47f3-cc7f-39fa04fc4309",
        "colab": {
          "base_uri": "https://localhost:8080/"
        }
      },
      "id": "1yNR367COoh5",
      "execution_count": null,
      "outputs": [
        {
          "output_type": "stream",
          "name": "stdout",
          "text": [
            "The remove element from the list is : None\n"
          ]
        }
      ]
    },
    {
      "cell_type": "code",
      "execution_count": null,
      "id": "09e5121b-97b3-42e4-8025-f28f3470681b",
      "metadata": {
        "id": "09e5121b-97b3-42e4-8025-f28f3470681b"
      },
      "outputs": [],
      "source": [
        "# Write a Python program to count the occurrences of an element in a list."
      ]
    },
    {
      "cell_type": "code",
      "source": [
        "list=[1,4,5,8,9,6,4,3,2,5,7]\n",
        "count=list.count(4)\n",
        "print(f\"The count of the element is : {count}\")"
      ],
      "metadata": {
        "id": "8kdpUJNfPFlP",
        "outputId": "6199978c-8ef4-4e02-e09d-038fea3c1e58",
        "colab": {
          "base_uri": "https://localhost:8080/"
        }
      },
      "id": "8kdpUJNfPFlP",
      "execution_count": null,
      "outputs": [
        {
          "output_type": "stream",
          "name": "stdout",
          "text": [
            "The count of the element is : 2\n"
          ]
        }
      ]
    },
    {
      "cell_type": "code",
      "execution_count": null,
      "id": "b774b741-e9a6-45db-8f00-e6d9b734d03a",
      "metadata": {
        "id": "b774b741-e9a6-45db-8f00-e6d9b734d03a"
      },
      "outputs": [],
      "source": [
        "# Write a Python program to get the number of even numbers in a list."
      ]
    },
    {
      "cell_type": "code",
      "source": [
        "list=[1,4,5,7,8,6,7,4,5,8,10]\n",
        "for i in list:\n",
        "  if i%2==0:\n",
        "    print(f\"The even number is : {i}\")"
      ],
      "metadata": {
        "id": "YyyBKh47PKvh",
        "outputId": "be1531e2-7232-4bd1-9a15-7d8bc0c94e42",
        "colab": {
          "base_uri": "https://localhost:8080/"
        }
      },
      "id": "YyyBKh47PKvh",
      "execution_count": null,
      "outputs": [
        {
          "output_type": "stream",
          "name": "stdout",
          "text": [
            "The even number is : 4\n",
            "The even number is : 8\n",
            "The even number is : 6\n",
            "The even number is : 4\n",
            "The even number is : 8\n",
            "The even number is : 10\n"
          ]
        }
      ]
    },
    {
      "cell_type": "code",
      "execution_count": null,
      "id": "5ce4fd2b-ab16-4b40-9ac2-d19c244d8d96",
      "metadata": {
        "id": "5ce4fd2b-ab16-4b40-9ac2-d19c244d8d96"
      },
      "outputs": [],
      "source": [
        "# Write a Python program to create a tuple and print it."
      ]
    },
    {
      "cell_type": "code",
      "source": [
        "\n",
        "my_tuple = (\"apple\", \"banana\", \"cherry\", 42, 3.14)\n",
        "\n",
        "print(\"The created tuple is:\", my_tuple)"
      ],
      "metadata": {
        "id": "UKo0fAJFR7dX",
        "outputId": "86a4d476-ff78-4b91-e150-5a73300f3893",
        "colab": {
          "base_uri": "https://localhost:8080/"
        }
      },
      "id": "UKo0fAJFR7dX",
      "execution_count": null,
      "outputs": [
        {
          "output_type": "stream",
          "name": "stdout",
          "text": [
            "The created tuple is: ('apple', 'banana', 'cherry', 42, 3.14)\n"
          ]
        }
      ]
    },
    {
      "cell_type": "code",
      "execution_count": null,
      "id": "5c04f880-6e96-4ef4-9f4b-df21aae76ff1",
      "metadata": {
        "id": "5c04f880-6e96-4ef4-9f4b-df21aae76ff1"
      },
      "outputs": [],
      "source": [
        "# Write a Python program to convert a tuple to a list and vice versa."
      ]
    },
    {
      "cell_type": "code",
      "source": [
        "\n",
        "list_data = [6, 7, 8, 9, 10]\n",
        "\n",
        "tuple_from_list = ()\n",
        "\n",
        "for item in list_data:\n",
        "    tuple_from_list += (item,)\n",
        "\n",
        "print(\"List to Tuple using for loop:\", tuple_from_list)\n",
        "\n",
        "\n",
        "tuple_data = (1, 2, 3, 4, 5)\n",
        "\n",
        "\n",
        "list_from_tuple = []\n",
        "\n",
        "for item in tuple_data:\n",
        "    list_from_tuple.append(item)\n",
        "\n",
        "print(\"Tuple to List using for loop:\", list_from_tuple)\n",
        "\n"
      ],
      "metadata": {
        "id": "ZitS4xcDbRmV",
        "outputId": "fa0ac6a5-d29a-47f8-ae6d-b4d3b13506dd",
        "colab": {
          "base_uri": "https://localhost:8080/"
        }
      },
      "id": "ZitS4xcDbRmV",
      "execution_count": null,
      "outputs": [
        {
          "output_type": "stream",
          "name": "stdout",
          "text": [
            "List to Tuple using for loop: (6, 7, 8, 9, 10)\n",
            "Tuple to List using for loop: [1, 2, 3, 4, 5]\n"
          ]
        }
      ]
    },
    {
      "cell_type": "code",
      "execution_count": null,
      "id": "d5192acc-27f3-456e-9c72-3b276a587bf5",
      "metadata": {
        "id": "d5192acc-27f3-456e-9c72-3b276a587bf5"
      },
      "outputs": [],
      "source": [
        "# Write a Python program to find the maximum and minimum values in a tuple."
      ]
    },
    {
      "cell_type": "code",
      "source": [
        "\n",
        "\n",
        "tuple_data = (10, 20, 4, 45, 99)\n",
        "max_value = max(tuple_data)\n",
        "min_value = min(tuple_data)\n",
        "print(f\"The maximum value in the tuple is: {max_value}\")\n",
        "print(f\"The minimum value in the tuple is: {min_value}\")\n",
        "\n"
      ],
      "metadata": {
        "id": "qJeeg4qafjxg",
        "outputId": "2a6c8916-7e9b-42d3-839a-8fd72ec4ecae",
        "colab": {
          "base_uri": "https://localhost:8080/"
        }
      },
      "id": "qJeeg4qafjxg",
      "execution_count": null,
      "outputs": [
        {
          "output_type": "stream",
          "name": "stdout",
          "text": [
            "The maximum value in the tuple is: 99\n",
            "The minimum value in the tuple is: 4\n"
          ]
        }
      ]
    },
    {
      "cell_type": "code",
      "execution_count": null,
      "id": "43f0a340-9407-4302-af7e-4e63db578bbf",
      "metadata": {
        "id": "43f0a340-9407-4302-af7e-4e63db578bbf"
      },
      "outputs": [],
      "source": [
        "# Write a Python program to unpack a tuple into variables."
      ]
    },
    {
      "cell_type": "code",
      "source": [
        "tuple_data = (1, 2, 3, 4)\n",
        "\n",
        "a, b, c, d = tuple_data\n",
        "print(\"Unpacked values:\")\n",
        "print(f\"a = {a}\")\n",
        "print(f\"b = {b}\")\n",
        "print(f\"c = {c}\")\n",
        "print(f\"d = {d}\")\n"
      ],
      "metadata": {
        "id": "HODIsKAkgKM3",
        "outputId": "8bbd72e5-25ca-4d40-eef8-a139ff0dff59",
        "colab": {
          "base_uri": "https://localhost:8080/"
        }
      },
      "id": "HODIsKAkgKM3",
      "execution_count": null,
      "outputs": [
        {
          "output_type": "stream",
          "name": "stdout",
          "text": [
            "Unpacked values:\n",
            "a = 1\n",
            "b = 2\n",
            "c = 3\n",
            "d = 4\n"
          ]
        }
      ]
    },
    {
      "cell_type": "code",
      "execution_count": null,
      "id": "46e96e29-2157-4b9f-bb24-0bd973eada9f",
      "metadata": {
        "id": "46e96e29-2157-4b9f-bb24-0bd973eada9f"
      },
      "outputs": [],
      "source": [
        "# Write a Python program to add an element to a set and check if an element exists in the set."
      ]
    },
    {
      "cell_type": "code",
      "source": [
        "my_set = {1, 2, 3, 4}\n",
        "my_set.add(5)\n",
        "print(\"Updated set:\", my_set)\n",
        "element_to_check = 3\n",
        "found = False\n",
        "for element in my_set:\n",
        "    if element == element_to_check:\n",
        "        found = True\n",
        "        break\n",
        "if found:\n",
        "    print(f\"Element {element_to_check} exists in the set.\")\n",
        "else:\n",
        "    print(f\"Element {element_to_check} does not exist in the set.\")"
      ],
      "metadata": {
        "id": "N2myLD4chZLX",
        "outputId": "44956710-66c6-438f-b2d1-9c2d882e064b",
        "colab": {
          "base_uri": "https://localhost:8080/"
        }
      },
      "id": "N2myLD4chZLX",
      "execution_count": null,
      "outputs": [
        {
          "output_type": "stream",
          "name": "stdout",
          "text": [
            "Updated set: {1, 2, 3, 4, 5}\n",
            "Element 3 exists in the set.\n"
          ]
        }
      ]
    },
    {
      "cell_type": "code",
      "execution_count": null,
      "id": "d81a803b-fd80-403e-9ae3-680ef44a3d86",
      "metadata": {
        "id": "d81a803b-fd80-403e-9ae3-680ef44a3d86"
      },
      "outputs": [],
      "source": [
        "# Write a Python program to create a dictionary with keys and values and print it."
      ]
    },
    {
      "cell_type": "code",
      "source": [
        "x={'maths': 80 , 'physics':85 , 'biology':90}\n",
        "print(x)"
      ],
      "metadata": {
        "id": "vPqxWVYhk-NM",
        "outputId": "1e9cda05-8671-41db-a03a-ea607ea020fa",
        "colab": {
          "base_uri": "https://localhost:8080/"
        }
      },
      "id": "vPqxWVYhk-NM",
      "execution_count": null,
      "outputs": [
        {
          "output_type": "stream",
          "name": "stdout",
          "text": [
            "{'maths': 80, 'physics': 85, 'biology': 90}\n"
          ]
        }
      ]
    },
    {
      "cell_type": "code",
      "execution_count": null,
      "id": "7432174b-fe75-4371-b23a-e2c5d62edb15",
      "metadata": {
        "id": "7432174b-fe75-4371-b23a-e2c5d62edb15"
      },
      "outputs": [],
      "source": [
        "# Write a Python program to access a dictionary value using a key."
      ]
    },
    {
      "cell_type": "code",
      "source": [
        "x={'maths': 80 , 'physics':85 , 'biology':90}\n",
        "print(x['maths'])"
      ],
      "metadata": {
        "id": "n0uJx1j1mHYR",
        "outputId": "6baaf2b3-69e5-4e82-f8d6-027c9af02410",
        "colab": {
          "base_uri": "https://localhost:8080/"
        }
      },
      "id": "n0uJx1j1mHYR",
      "execution_count": null,
      "outputs": [
        {
          "output_type": "stream",
          "name": "stdout",
          "text": [
            "80\n"
          ]
        }
      ]
    },
    {
      "cell_type": "code",
      "execution_count": null,
      "id": "000b3260-d91f-41f2-9729-4b0124f2c4d2",
      "metadata": {
        "id": "000b3260-d91f-41f2-9729-4b0124f2c4d2"
      },
      "outputs": [],
      "source": [
        "# Write a Python program to check if a key exists in a dictionary."
      ]
    },
    {
      "cell_type": "code",
      "source": [
        "x={'maths': 80 , 'physics':85 , 'biology':90}\n",
        "if 'maths' in x:\n",
        "  print(\"The key exists in the dictionary\")\n",
        "else:\n",
        "  print(\"The key does not exists in the dictionary\")"
      ],
      "metadata": {
        "id": "3Cc3ck1Xm9xI",
        "outputId": "167eaa3b-4284-4a2c-8a62-a042f0fdf39c",
        "colab": {
          "base_uri": "https://localhost:8080/"
        }
      },
      "id": "3Cc3ck1Xm9xI",
      "execution_count": null,
      "outputs": [
        {
          "output_type": "stream",
          "name": "stdout",
          "text": [
            "The key exists in the dictionary\n"
          ]
        }
      ]
    },
    {
      "cell_type": "code",
      "execution_count": null,
      "id": "c4b1a942-818e-42c1-b742-1fabe80fca6d",
      "metadata": {
        "id": "c4b1a942-818e-42c1-b742-1fabe80fca6d"
      },
      "outputs": [],
      "source": [
        "# Write a Python program to merge two dictionaries."
      ]
    },
    {
      "cell_type": "code",
      "source": [
        "x = {'maths': 80, 'physics': 85, 'biology': 90}\n",
        "y = {'chemistry': 95, 'history': 88}\n",
        "x.update(y)\n",
        "print(x)"
      ],
      "metadata": {
        "id": "TgLqgu4Undx4",
        "outputId": "ae53284f-7e5b-4801-e19d-e93151420e26",
        "colab": {
          "base_uri": "https://localhost:8080/"
        }
      },
      "id": "TgLqgu4Undx4",
      "execution_count": null,
      "outputs": [
        {
          "output_type": "stream",
          "name": "stdout",
          "text": [
            "{'maths': 80, 'physics': 85, 'biology': 90, 'chemistry': 95, 'history': 88}\n"
          ]
        }
      ]
    },
    {
      "cell_type": "code",
      "execution_count": null,
      "id": "a78f1070-3ff3-436a-8391-153f019f53cd",
      "metadata": {
        "id": "a78f1070-3ff3-436a-8391-153f019f53cd"
      },
      "outputs": [],
      "source": [
        "# Write a Python program to remove a key from a dictionary."
      ]
    },
    {
      "cell_type": "code",
      "source": [
        "x={'maths': 80, 'physics': 85, 'biology': 90}\n",
        "del x['maths']\n",
        "print(x)"
      ],
      "metadata": {
        "id": "JWrCxJ6vnnpt",
        "outputId": "c8e9e746-7151-46ae-eed3-d77a48c5ff47",
        "colab": {
          "base_uri": "https://localhost:8080/"
        }
      },
      "id": "JWrCxJ6vnnpt",
      "execution_count": null,
      "outputs": [
        {
          "output_type": "stream",
          "name": "stdout",
          "text": [
            "{'physics': 85, 'biology': 90}\n"
          ]
        }
      ]
    },
    {
      "cell_type": "code",
      "execution_count": null,
      "id": "fcba0267-8cc4-4e89-9e78-2d820916c177",
      "metadata": {
        "id": "fcba0267-8cc4-4e89-9e78-2d820916c177"
      },
      "outputs": [],
      "source": [
        "# Write a Python program to get the number of keys in a dictionary."
      ]
    },
    {
      "cell_type": "code",
      "source": [
        "x={'maths': 80, 'physics': 85, 'biology': 90}\n",
        "print(len(x))"
      ],
      "metadata": {
        "id": "Npo1mCFTn0Pc",
        "outputId": "8e8743ec-17da-4ccb-d394-08dd7252f2b7",
        "colab": {
          "base_uri": "https://localhost:8080/"
        }
      },
      "id": "Npo1mCFTn0Pc",
      "execution_count": null,
      "outputs": [
        {
          "output_type": "stream",
          "name": "stdout",
          "text": [
            "3\n"
          ]
        }
      ]
    },
    {
      "cell_type": "code",
      "execution_count": null,
      "id": "d4c5fd77-9656-43e5-8fe2-be7dca23eb6d",
      "metadata": {
        "id": "d4c5fd77-9656-43e5-8fe2-be7dca23eb6d"
      },
      "outputs": [],
      "source": [
        "# Write a Python program to find the largest and smallest values in a dictionary."
      ]
    },
    {
      "cell_type": "code",
      "source": [
        "x={'maths': 80, 'physics': 85, 'biology': 90}\n",
        "largest=max(x.values())\n",
        "smallest=min(x.values())\n",
        "print(f\"The largest value in the dictionary is : {largest}\")\n",
        "print(f\"The smallest value in the dictionary is : {smallest}\")"
      ],
      "metadata": {
        "id": "Ks1TZDyroglw",
        "outputId": "660f05f0-a8f3-4e9f-b47d-66305bb7c3c4",
        "colab": {
          "base_uri": "https://localhost:8080/"
        }
      },
      "id": "Ks1TZDyroglw",
      "execution_count": null,
      "outputs": [
        {
          "output_type": "stream",
          "name": "stdout",
          "text": [
            "The largest value in the dictionary is : 90\n",
            "The smallest value in the dictionary is : 80\n"
          ]
        }
      ]
    },
    {
      "cell_type": "markdown",
      "id": "7830b8cc-9a90-45a2-8e4a-6f3c2b8b133b",
      "metadata": {
        "id": "7830b8cc-9a90-45a2-8e4a-6f3c2b8b133b"
      },
      "source": [
        "## Functions (User-Defined, Arguments, Keyword Arguments, Return Values)"
      ]
    },
    {
      "cell_type": "code",
      "execution_count": null,
      "id": "06a33fba-c6b1-4989-90f4-b647d1fe1627",
      "metadata": {
        "id": "06a33fba-c6b1-4989-90f4-b647d1fe1627"
      },
      "outputs": [],
      "source": [
        "# Write a Python function that returns the square of a number."
      ]
    },
    {
      "cell_type": "code",
      "source": [
        "a=int(input(\"Enter the number: \"))\n",
        "square=a*a\n",
        "print(f\"The square of the number is : {square}\")"
      ],
      "metadata": {
        "id": "6pOQQaDRouQC",
        "outputId": "d55b198d-8de5-41fb-875c-4cc405d50df8",
        "colab": {
          "base_uri": "https://localhost:8080/"
        }
      },
      "id": "6pOQQaDRouQC",
      "execution_count": null,
      "outputs": [
        {
          "output_type": "stream",
          "name": "stdout",
          "text": [
            "Enter the number: 5\n",
            "The square of the number is : 25\n"
          ]
        }
      ]
    },
    {
      "cell_type": "code",
      "execution_count": null,
      "id": "91d90a4a-7329-45db-893b-caed8450ba96",
      "metadata": {
        "id": "91d90a4a-7329-45db-893b-caed8450ba96"
      },
      "outputs": [],
      "source": [
        "# Write a Python function that accepts two parameters and returns their sum."
      ]
    },
    {
      "cell_type": "code",
      "source": [
        "\n",
        "def add_numbers(a, b):\n",
        "    return a + b\n",
        "\n",
        "result = add_numbers(5, 10)\n",
        "\n",
        "print(\"The sum is:\", result)\n"
      ],
      "metadata": {
        "id": "91CTBEB5pWBQ",
        "outputId": "68271727-a02f-4238-d7c3-699ef08a8680",
        "colab": {
          "base_uri": "https://localhost:8080/"
        }
      },
      "id": "91CTBEB5pWBQ",
      "execution_count": null,
      "outputs": [
        {
          "output_type": "stream",
          "name": "stdout",
          "text": [
            "The sum is: 15\n"
          ]
        }
      ]
    },
    {
      "cell_type": "code",
      "execution_count": null,
      "id": "dec2f9a5-90c5-478b-890b-0a506ecf45d3",
      "metadata": {
        "id": "dec2f9a5-90c5-478b-890b-0a506ecf45d3"
      },
      "outputs": [],
      "source": [
        "# Write a Python function to check if a given number is prime."
      ]
    },
    {
      "cell_type": "code",
      "source": [
        "\n",
        "def is_prime(n):\n",
        "    if n < 2:\n",
        "        return False\n",
        "    for i in range(2, n):\n",
        "        if n % i == 0:\n",
        "            return False\n",
        "    return True\n",
        "\n",
        "number = int(input(\"Enter a number: \"))\n",
        "if is_prime(number):\n",
        "    print(f\"{number} is a prime number.\")\n",
        "else:\n",
        "    print(f\"{number} is not a prime number.\")\n"
      ],
      "metadata": {
        "id": "timZVCaRp2G9",
        "outputId": "628c75b3-209b-47a6-94fa-d7812e905318",
        "colab": {
          "base_uri": "https://localhost:8080/"
        }
      },
      "id": "timZVCaRp2G9",
      "execution_count": null,
      "outputs": [
        {
          "output_type": "stream",
          "name": "stdout",
          "text": [
            "Enter a number: 5\n",
            "5 is a prime number.\n"
          ]
        }
      ]
    },
    {
      "cell_type": "code",
      "execution_count": null,
      "id": "56337441-68c3-45df-8733-a34cde0533a5",
      "metadata": {
        "id": "56337441-68c3-45df-8733-a34cde0533a5"
      },
      "outputs": [],
      "source": [
        "# Write a Python function to calculate the factorial of a number using recursion."
      ]
    },
    {
      "cell_type": "code",
      "source": [
        "\n",
        "def factorial(n):\n",
        "    result = 1\n",
        "    for i in range(1, n + 1):\n",
        "        result *= i\n",
        "    return result\n",
        "\n",
        "number = int(input(\"Enter a number: \"))\n",
        "result = factorial(number)\n",
        "print(f\"The factorial of {number} is: {result}\")\n"
      ],
      "metadata": {
        "id": "JQbMTRZVq6B8",
        "outputId": "834bd96f-3ffa-4789-93d6-a75f70954157",
        "colab": {
          "base_uri": "https://localhost:8080/"
        }
      },
      "id": "JQbMTRZVq6B8",
      "execution_count": null,
      "outputs": [
        {
          "output_type": "stream",
          "name": "stdout",
          "text": [
            "Enter a number: 8\n",
            "The factorial of 8 is: 40320\n"
          ]
        }
      ]
    },
    {
      "cell_type": "code",
      "execution_count": null,
      "id": "84a2d010-e7b2-409b-b1f4-99bf806bb77a",
      "metadata": {
        "id": "84a2d010-e7b2-409b-b1f4-99bf806bb77a"
      },
      "outputs": [],
      "source": [
        "# Write a Python function to calculate the power of a number using recursion."
      ]
    },
    {
      "cell_type": "code",
      "source": [
        "\n",
        "def power(base, exponent):\n",
        "\n",
        "    if exponent == 0:\n",
        "        return 1\n",
        "    else:\n",
        "        return base * power(base, exponent - 1)\n",
        "\n",
        "base = int(input(\"Enter the base: \"))\n",
        "exponent = int(input(\"Enter the exponent: \"))\n",
        "result = power(base, exponent)\n",
        "print(f\"{base} raised to the power of {exponent} is: {result}\")\n"
      ],
      "metadata": {
        "id": "jcDqbUmRr3EI",
        "outputId": "88e53b4c-c85e-4628-8f82-2b16ffc432b7",
        "colab": {
          "base_uri": "https://localhost:8080/"
        }
      },
      "id": "jcDqbUmRr3EI",
      "execution_count": null,
      "outputs": [
        {
          "output_type": "stream",
          "name": "stdout",
          "text": [
            "Enter the base: 2\n",
            "Enter the exponent: 10\n",
            "2 raised to the power of 10 is: 1024\n"
          ]
        }
      ]
    },
    {
      "cell_type": "code",
      "execution_count": null,
      "id": "ec44911e-7820-46cc-96a3-4ca443888837",
      "metadata": {
        "id": "ec44911e-7820-46cc-96a3-4ca443888837"
      },
      "outputs": [],
      "source": [
        "# Write a Python function to accept a list and return its length without using the built-in len() function."
      ]
    },
    {
      "cell_type": "code",
      "source": [
        "x = [1,2,5,8,9,7]\n",
        "count=0\n",
        "for i in x:\n",
        "  count+=1\n",
        "print(f\"The length of the list is : {count}\")"
      ],
      "metadata": {
        "id": "QRMdQckk2DP0",
        "outputId": "1aa4e53a-9acc-41e8-9b95-5a0783703930",
        "colab": {
          "base_uri": "https://localhost:8080/"
        }
      },
      "id": "QRMdQckk2DP0",
      "execution_count": null,
      "outputs": [
        {
          "output_type": "stream",
          "name": "stdout",
          "text": [
            "The length of the list is : 6\n"
          ]
        }
      ]
    },
    {
      "cell_type": "code",
      "execution_count": null,
      "id": "fb4c08e1-34f3-487a-a1c6-77cd60fb4836",
      "metadata": {
        "id": "fb4c08e1-34f3-487a-a1c6-77cd60fb4836"
      },
      "outputs": [],
      "source": [
        "# Write a Python function that accepts both positional and keyword arguments and prints the sum of positional arguments."
      ]
    },
    {
      "cell_type": "code",
      "source": [
        "def sum_positional_args(*args):\n",
        "\n",
        "    total = sum(args)\n",
        "\n",
        "    print(\"Sum of positional arguments:\", total)\n",
        "\n",
        "sum_positional_args(1, 2, 3, 4)\n"
      ],
      "metadata": {
        "id": "j174aXsj2cbO",
        "outputId": "8d335821-314c-466a-c6be-2d2dc678d40f",
        "colab": {
          "base_uri": "https://localhost:8080/"
        }
      },
      "id": "j174aXsj2cbO",
      "execution_count": null,
      "outputs": [
        {
          "output_type": "stream",
          "name": "stdout",
          "text": [
            "Sum of positional arguments: 10\n"
          ]
        }
      ]
    },
    {
      "cell_type": "code",
      "execution_count": null,
      "id": "f4ffc7a8-f579-461c-b507-4085a0477283",
      "metadata": {
        "id": "f4ffc7a8-f579-461c-b507-4085a0477283"
      },
      "outputs": [],
      "source": [
        "# Write a Python function to find the maximum of two numbers using keyword arguments."
      ]
    },
    {
      "cell_type": "code",
      "source": [
        "def max_value(x,y):\n",
        "  if x>y:\n",
        "    return x\n",
        "  else:\n",
        "    return y\n",
        "max_value(5,8)"
      ],
      "metadata": {
        "id": "ARjsJo3F4abJ",
        "outputId": "67f2a3ca-b390-4c39-c48e-5863924e7981",
        "colab": {
          "base_uri": "https://localhost:8080/"
        }
      },
      "id": "ARjsJo3F4abJ",
      "execution_count": null,
      "outputs": [
        {
          "output_type": "execute_result",
          "data": {
            "text/plain": [
              "8"
            ]
          },
          "metadata": {},
          "execution_count": 67
        }
      ]
    },
    {
      "cell_type": "code",
      "execution_count": null,
      "id": "0b00c4af-89e0-43e8-a991-1b684d2ce33f",
      "metadata": {
        "id": "0b00c4af-89e0-43e8-a991-1b684d2ce33f"
      },
      "outputs": [],
      "source": [
        "# Write a Python function that accepts a list of numbers and returns their product."
      ]
    },
    {
      "cell_type": "code",
      "source": [
        "def product(numbers):\n",
        "    result = 1\n",
        "    for num in numbers:\n",
        "        result *= num\n",
        "    return result\n",
        "\n",
        "numbers = [1, 2, 3, 4, 5]\n",
        "product_result = product(numbers)\n",
        "print(\"Product of numbers:\", product_result)"
      ],
      "metadata": {
        "id": "8IyWW-hb5zg7",
        "outputId": "920a4ef9-e54a-4028-a0bc-be6f3267aa55",
        "colab": {
          "base_uri": "https://localhost:8080/"
        }
      },
      "id": "8IyWW-hb5zg7",
      "execution_count": null,
      "outputs": [
        {
          "output_type": "stream",
          "name": "stdout",
          "text": [
            "Product of numbers: 120\n"
          ]
        }
      ]
    },
    {
      "cell_type": "code",
      "execution_count": null,
      "id": "9cd11703-5b48-44fe-af4e-ea906a2762c9",
      "metadata": {
        "id": "9cd11703-5b48-44fe-af4e-ea906a2762c9"
      },
      "outputs": [],
      "source": [
        "# Write a Python function to check if a number is even or odd using the modulo operator."
      ]
    },
    {
      "cell_type": "code",
      "source": [
        "def even_odd(number):\n",
        "    if number % 2 == 0:\n",
        "        return \"Even\"\n",
        "    else:\n",
        "        return \"Odd\"\n",
        "\n",
        "number = int(input(\"Enter a number: \"))\n",
        "result = even_odd(number)\n",
        "print(f\"The number {number} is {result}.\")"
      ],
      "metadata": {
        "id": "L7W17ms_6vsc",
        "outputId": "ef8795b2-bced-4905-fadb-f9b3aa55d6f9",
        "colab": {
          "base_uri": "https://localhost:8080/"
        }
      },
      "id": "L7W17ms_6vsc",
      "execution_count": null,
      "outputs": [
        {
          "output_type": "stream",
          "name": "stdout",
          "text": [
            "Enter a number: 45\n",
            "The number 45 is Odd.\n"
          ]
        }
      ]
    },
    {
      "cell_type": "code",
      "execution_count": null,
      "id": "afbf262e-daed-40a9-827f-82fa60979610",
      "metadata": {
        "id": "afbf262e-daed-40a9-827f-82fa60979610"
      },
      "outputs": [],
      "source": [
        "# Write a Python program to create a list of squares of numbers from 1 to 10 using list comprehension."
      ]
    },
    {
      "cell_type": "code",
      "source": [
        "squares = [x**2 for x in range(1, 11)]\n",
        "\n",
        "print(f\"The squares of numbers from 1 to 10 are: {squares}\")\n"
      ],
      "metadata": {
        "id": "qXQehI_H7TDP",
        "outputId": "dad4d7e7-3ef5-46b9-84ea-7ad86cf55522",
        "colab": {
          "base_uri": "https://localhost:8080/"
        }
      },
      "id": "qXQehI_H7TDP",
      "execution_count": null,
      "outputs": [
        {
          "output_type": "stream",
          "name": "stdout",
          "text": [
            "The squares of numbers from 1 to 10 are: [1, 4, 9, 16, 25, 36, 49, 64, 81, 100]\n"
          ]
        }
      ]
    },
    {
      "cell_type": "code",
      "execution_count": null,
      "id": "7fff76d8-9ba8-4006-9be6-6f7350092d1c",
      "metadata": {
        "id": "7fff76d8-9ba8-4006-9be6-6f7350092d1c"
      },
      "outputs": [],
      "source": [
        "# Write a Python program to filter out all even numbers from a list using list comprehension."
      ]
    },
    {
      "cell_type": "code",
      "source": [
        "x=[1,2,3,4,5,6,7,8,9,10]\n",
        "even_number=[i for i in x if i%2==0]\n",
        "print(f\"The even numbers are : {even_number}\")"
      ],
      "metadata": {
        "id": "D592L6Vr8obz",
        "outputId": "5d05985f-4405-4255-ec8b-cd32e60eddd6",
        "colab": {
          "base_uri": "https://localhost:8080/"
        }
      },
      "id": "D592L6Vr8obz",
      "execution_count": null,
      "outputs": [
        {
          "output_type": "stream",
          "name": "stdout",
          "text": [
            "The even numbers are : [2, 4, 6, 8, 10]\n"
          ]
        }
      ]
    },
    {
      "cell_type": "code",
      "execution_count": null,
      "id": "6ae9b8df-38f9-4fd7-bad1-aa7b07cc9271",
      "metadata": {
        "id": "6ae9b8df-38f9-4fd7-bad1-aa7b07cc9271"
      },
      "outputs": [],
      "source": [
        "# Write a Python program to create a list of strings that are longer than 4 characters from a given list of words using list comprehension."
      ]
    },
    {
      "cell_type": "code",
      "source": [
        "list_of_words = [\"apple\", \"banana\", \"cherry\", \"date\", \"elderberry\", \"fig\"]\n",
        "\n",
        "longer_than_4_chars = [word for word in list_of_words if len(word) > 4]\n",
        "\n",
        "print(\"Words longer than 4 characters:\", longer_than_4_chars)"
      ],
      "metadata": {
        "id": "v2u_2DzC9Ftr",
        "outputId": "a02010b1-1365-4b0d-90c1-a72a127626d6",
        "colab": {
          "base_uri": "https://localhost:8080/"
        }
      },
      "id": "v2u_2DzC9Ftr",
      "execution_count": null,
      "outputs": [
        {
          "output_type": "stream",
          "name": "stdout",
          "text": [
            "Words longer than 4 characters: ['apple', 'banana', 'cherry', 'elderberry']\n"
          ]
        }
      ]
    },
    {
      "cell_type": "code",
      "execution_count": null,
      "id": "f492c7d4-6ad3-48ab-9b61-232be02aecee",
      "metadata": {
        "id": "f492c7d4-6ad3-48ab-9b61-232be02aecee"
      },
      "outputs": [],
      "source": [
        "# Write a Python program to create a list of all uppercase letters in a string using list comprehension."
      ]
    },
    {
      "cell_type": "code",
      "source": [
        "list_of_words=['apple','banana','cherry']\n",
        "uppercase_letters=[word.upper() for word in list_of_words]\n",
        "print(f\"The uppercase letters are : {uppercase_letters}\")"
      ],
      "metadata": {
        "id": "Rv3RBjRA9slm",
        "outputId": "9fffc2aa-0a5e-498a-851b-828a2795b6ae",
        "colab": {
          "base_uri": "https://localhost:8080/"
        }
      },
      "id": "Rv3RBjRA9slm",
      "execution_count": null,
      "outputs": [
        {
          "output_type": "stream",
          "name": "stdout",
          "text": [
            "The uppercase letters are : ['APPLE', 'BANANA', 'CHERRY']\n"
          ]
        }
      ]
    },
    {
      "cell_type": "code",
      "execution_count": null,
      "id": "929a7f74-1762-4a2a-be23-bacf67ff4d8b",
      "metadata": {
        "id": "929a7f74-1762-4a2a-be23-bacf67ff4d8b"
      },
      "outputs": [],
      "source": [
        "# Write a Python program to generate the first n Fibonacci numbers using list comprehension."
      ]
    },
    {
      "cell_type": "code",
      "source": [
        "def fibonacci_gen(n):\n",
        "    a, b = 0, 1\n",
        "    for _ in range(n):\n",
        "        yield a\n",
        "        a, b = b, a + b\n",
        "n = 10\n",
        "fib_list = [x for x in fibonacci_gen(n)]\n",
        "print(f\"The fibonacci numbers are: {fib_list}\")\n"
      ],
      "metadata": {
        "id": "hhJ_TJ41-G_s",
        "outputId": "033259d3-5514-4272-93de-383abdb6a194",
        "colab": {
          "base_uri": "https://localhost:8080/"
        }
      },
      "id": "hhJ_TJ41-G_s",
      "execution_count": null,
      "outputs": [
        {
          "output_type": "stream",
          "name": "stdout",
          "text": [
            "The fibonacci numbers are: [0, 1, 1, 2, 3, 5, 8, 13, 21, 34]\n"
          ]
        }
      ]
    },
    {
      "cell_type": "code",
      "execution_count": null,
      "id": "47188bbc-cf62-47bb-a14e-0582c8b5cdd9",
      "metadata": {
        "id": "47188bbc-cf62-47bb-a14e-0582c8b5cdd9"
      },
      "outputs": [],
      "source": [
        "# Write a Python program to create a dictionary where keys are numbers and values are their squares using dictionary comprehension."
      ]
    },
    {
      "cell_type": "code",
      "source": [
        "x = {i: i**2 for i in range(1, 6)}\n",
        "print(f\"The numbers and values are their squares {x}\")"
      ],
      "metadata": {
        "id": "92Xhidfa_SAN",
        "outputId": "64a052d9-0006-4c1c-9f32-062dba395ca0",
        "colab": {
          "base_uri": "https://localhost:8080/"
        }
      },
      "id": "92Xhidfa_SAN",
      "execution_count": null,
      "outputs": [
        {
          "output_type": "stream",
          "name": "stdout",
          "text": [
            "The numbers and values are their squares {1: 1, 2: 4, 3: 9, 4: 16, 5: 25}\n"
          ]
        }
      ]
    },
    {
      "cell_type": "code",
      "execution_count": null,
      "id": "3c4637d3-aa85-4b4c-acf3-953c10818bcb",
      "metadata": {
        "id": "3c4637d3-aa85-4b4c-acf3-953c10818bcb"
      },
      "outputs": [],
      "source": [
        "# Write a Python program to create a dictionary from two lists (one for keys and one for values) using dictionary comprehension."
      ]
    },
    {
      "cell_type": "code",
      "source": [
        "keys = ['a', 'b', 'c']\n",
        "values = [1, 2, 3]\n",
        "\n",
        "dict_comprehension = {keys[i]: values[i] for i in range(len(keys))}\n",
        "\n",
        "print(dict_comprehension)\n"
      ],
      "metadata": {
        "id": "cZ4cTmsxA5LG",
        "outputId": "6b1e17cd-65de-4916-c590-acff9879f438",
        "colab": {
          "base_uri": "https://localhost:8080/"
        }
      },
      "id": "cZ4cTmsxA5LG",
      "execution_count": null,
      "outputs": [
        {
          "output_type": "stream",
          "name": "stdout",
          "text": [
            "{'a': 1, 'b': 2, 'c': 3}\n"
          ]
        }
      ]
    },
    {
      "cell_type": "code",
      "execution_count": null,
      "id": "de817d6f-96e7-4346-839e-1ef0df539b6b",
      "metadata": {
        "id": "de817d6f-96e7-4346-839e-1ef0df539b6b"
      },
      "outputs": [],
      "source": [
        "# Write a Python program to create a dictionary of numbers from 1 to 5 and their cubes using dictionary comprehension."
      ]
    },
    {
      "cell_type": "code",
      "source": [
        "cubes_dict = {number:number**3 for number in range(1,6)}\n",
        "print(f\"The dictionary with numbers and their values are cubes: {cubes_dict}\")"
      ],
      "metadata": {
        "id": "l4erEF93CWUX",
        "outputId": "c5ffda69-0c8f-48bd-806c-659a08241823",
        "colab": {
          "base_uri": "https://localhost:8080/"
        }
      },
      "id": "l4erEF93CWUX",
      "execution_count": 3,
      "outputs": [
        {
          "output_type": "stream",
          "name": "stdout",
          "text": [
            "The dictionary with numbers and their values are cubes: {1: 1, 2: 8, 3: 27, 4: 64, 5: 125}\n"
          ]
        }
      ]
    },
    {
      "cell_type": "code",
      "execution_count": null,
      "id": "33695301-057e-49a6-9f80-a2f4e3af60ed",
      "metadata": {
        "id": "33695301-057e-49a6-9f80-a2f4e3af60ed"
      },
      "outputs": [],
      "source": [
        "# Write a Python program to square each element of a list using the map() function."
      ]
    },
    {
      "cell_type": "code",
      "source": [
        "\n",
        "numbers = [1, 2, 3, 4, 5]\n",
        "\n",
        "squared_numbers = list(map(lambda x: x**2, numbers))\n",
        "\n",
        "print(squared_numbers)\n"
      ],
      "metadata": {
        "id": "-U1OygSTXRY7",
        "outputId": "4ed53c12-faea-4704-b198-943c4d24da2b",
        "colab": {
          "base_uri": "https://localhost:8080/"
        }
      },
      "id": "-U1OygSTXRY7",
      "execution_count": 4,
      "outputs": [
        {
          "output_type": "stream",
          "name": "stdout",
          "text": [
            "[1, 4, 9, 16, 25]\n"
          ]
        }
      ]
    },
    {
      "cell_type": "code",
      "execution_count": null,
      "id": "6d4d17f3-c40f-4944-8656-c6416b600361",
      "metadata": {
        "id": "6d4d17f3-c40f-4944-8656-c6416b600361"
      },
      "outputs": [],
      "source": [
        "# Write a Python program to filter all even numbers from a list using the filter() function."
      ]
    },
    {
      "cell_type": "code",
      "source": [
        "number = [1,2,3,4,5,6,7,8]\n",
        "even_number=list(filter(lambda x:x%2==0,number))\n",
        "print(f\"The even numbers are : {even_number}\")"
      ],
      "metadata": {
        "id": "qn3TfSYPX0b7",
        "outputId": "f5e53167-2c99-496f-9c98-e8203398e7d2",
        "colab": {
          "base_uri": "https://localhost:8080/"
        }
      },
      "id": "qn3TfSYPX0b7",
      "execution_count": 5,
      "outputs": [
        {
          "output_type": "stream",
          "name": "stdout",
          "text": [
            "The even numbers are : [2, 4, 6, 8]\n"
          ]
        }
      ]
    },
    {
      "cell_type": "code",
      "execution_count": null,
      "id": "6634ba1f-9f81-475e-b7c4-422d102afb75",
      "metadata": {
        "id": "6634ba1f-9f81-475e-b7c4-422d102afb75"
      },
      "outputs": [],
      "source": [
        "# Write a Python program to use a lambda function to check if a number is divisible by both 3 and 5."
      ]
    },
    {
      "cell_type": "code",
      "source": [
        "number = 15\n",
        "is_divisible = lambda x: x%3==0 and x%5==0\n",
        "print(f\"The number {number} is divisible by both 3 and 5: {is_divisible(number)}\")\n"
      ],
      "metadata": {
        "id": "9_QjupUUYpT9",
        "outputId": "279e7fd8-16f4-42e4-ec99-25ee212f8b80",
        "colab": {
          "base_uri": "https://localhost:8080/"
        }
      },
      "id": "9_QjupUUYpT9",
      "execution_count": 12,
      "outputs": [
        {
          "output_type": "stream",
          "name": "stdout",
          "text": [
            "The number 15 is divisible by both 3 and 5: True\n"
          ]
        }
      ]
    },
    {
      "cell_type": "code",
      "source": [
        "\n",
        "is_divisible = lambda x: x % 3 == 0 and x % 5 == 0\n",
        "\n",
        "number = 15\n",
        "print(f\"Is {number} divisible by both 3 and 5? {is_divisible(number)}\")\n",
        "\n",
        "number = 10\n",
        "print(f\"Is {number} divisible by both 3 and 5? {is_divisible(number)}\")\n"
      ],
      "metadata": {
        "id": "rlNlAfGeam6D",
        "outputId": "f21d8646-572b-4e4a-8c55-a3226bf82b48",
        "colab": {
          "base_uri": "https://localhost:8080/"
        }
      },
      "id": "rlNlAfGeam6D",
      "execution_count": 13,
      "outputs": [
        {
          "output_type": "stream",
          "name": "stdout",
          "text": [
            "Is 15 divisible by both 3 and 5? True\n",
            "Is 10 divisible by both 3 and 5? False\n"
          ]
        }
      ]
    },
    {
      "cell_type": "code",
      "execution_count": null,
      "id": "0aac8430-5d77-439d-9a99-9598fadf989c",
      "metadata": {
        "id": "0aac8430-5d77-439d-9a99-9598fadf989c"
      },
      "outputs": [],
      "source": [
        "# Write a Python program to multiply all numbers in a list by 2 using a lambda function inside map()."
      ]
    },
    {
      "cell_type": "code",
      "source": [
        "element = [1,2,3,6,5,4,7]\n",
        "is_multiply=list(map(lambda x : x*2 , element ))\n",
        "print(f\"The multiply of the list is : {is_multiply}\")"
      ],
      "metadata": {
        "id": "014J5Texa0VO",
        "outputId": "2757ad6e-145c-4ebe-c20b-1e6ad858b8c6",
        "colab": {
          "base_uri": "https://localhost:8080/"
        }
      },
      "id": "014J5Texa0VO",
      "execution_count": 15,
      "outputs": [
        {
          "output_type": "stream",
          "name": "stdout",
          "text": [
            "The multiply of the list is : [2, 4, 6, 12, 10, 8, 14]\n"
          ]
        }
      ]
    },
    {
      "cell_type": "code",
      "execution_count": null,
      "id": "e4cd5ba8-c6ec-4f0d-8787-bf0a4b7a2e22",
      "metadata": {
        "id": "e4cd5ba8-c6ec-4f0d-8787-bf0a4b7a2e22"
      },
      "outputs": [],
      "source": [
        "# Write a Python program to remove all occurrences of a specific element from a list."
      ]
    },
    {
      "cell_type": "code",
      "source": [
        "my_list = [1, 2, 3, 4, 3, 5, 3, 6]\n",
        "element_to_remove = 3\n",
        "\n",
        "print(f\"List before removing{element_to_remove}: {my_list}\")\n",
        "\n",
        "while element_to_remove in my_list:\n",
        "    my_list.remove(element_to_remove)\n",
        "\n",
        "print(f\"List after removing {element_to_remove}: {my_list}\")\n"
      ],
      "metadata": {
        "id": "aA_-8w8RbqYd",
        "outputId": "12315eb8-af1f-421e-af0d-3cfa9a069546",
        "colab": {
          "base_uri": "https://localhost:8080/"
        }
      },
      "id": "aA_-8w8RbqYd",
      "execution_count": 20,
      "outputs": [
        {
          "output_type": "stream",
          "name": "stdout",
          "text": [
            "List before removing3: [1, 2, 3, 4, 3, 5, 3, 6]\n",
            "List after removing 3: [1, 2, 4, 5, 6]\n"
          ]
        }
      ]
    },
    {
      "cell_type": "markdown",
      "id": "caba77c7-93db-4893-8f48-c7365ed5c585",
      "metadata": {
        "id": "caba77c7-93db-4893-8f48-c7365ed5c585"
      },
      "source": [
        "**Note:**\n",
        "- All assignments must follow [PEP 8 – Style Guide for Python Code](https://peps.python.org/pep-0008/) guidelines.\n",
        "- You can add multiple solutions for each question. Create a new code cell next to the question and add it. Shortcut for creating cell : `Alt + Enter`"
      ]
    }
  ],
  "metadata": {
    "kernelspec": {
      "display_name": "Python 3 (ipykernel)",
      "language": "python",
      "name": "python3"
    },
    "language_info": {
      "codemirror_mode": {
        "name": "ipython",
        "version": 3
      },
      "file_extension": ".py",
      "mimetype": "text/x-python",
      "name": "python",
      "nbconvert_exporter": "python",
      "pygments_lexer": "ipython3",
      "version": "3.12.6"
    },
    "colab": {
      "provenance": [],
      "include_colab_link": true
    }
  },
  "nbformat": 4,
  "nbformat_minor": 5
}